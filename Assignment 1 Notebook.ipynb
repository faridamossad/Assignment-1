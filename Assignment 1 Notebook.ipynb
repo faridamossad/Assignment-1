{
 "cells": [
  {
   "cell_type": "markdown",
   "id": "f6e1ae58",
   "metadata": {},
   "source": [
    "## Assignment 1\n",
    "### Group members: Farida Mossad, Lina Serry "
   ]
  },
  {
   "cell_type": "markdown",
   "id": "c030878e",
   "metadata": {},
   "source": [
    "As we are very passionate about the game of basketball and its varying statistics, we've decided to pick a dataset that can be used to explore how players and teams stats tendencies have changed over time due to changes in game philosophy and player development strategies. Also, it is useful to regard how this stats have an effect on MVP voting at the end of the each season. We found this dataset on Kaggle, it is comprised of 42 variables and 14,092 observations of players. "
   ]
  },
  {
   "cell_type": "code",
   "execution_count": 18,
   "id": "1d559ce4",
   "metadata": {},
   "outputs": [],
   "source": [
    "import numpy as np"
   ]
  },
  {
   "cell_type": "code",
   "execution_count": 19,
   "id": "2907b0d9",
   "metadata": {},
   "outputs": [],
   "source": [
    "import pandas as pd"
   ]
  },
  {
   "cell_type": "code",
   "execution_count": 20,
   "id": "bb3b9ab9",
   "metadata": {},
   "outputs": [],
   "source": [
    "df=pd.read_csv('player_mvp_stats.csv')"
   ]
  },
  {
   "cell_type": "code",
   "execution_count": 21,
   "id": "ec1bc6ef",
   "metadata": {},
   "outputs": [
    {
     "data": {
      "text/html": [
       "<div>\n",
       "<style scoped>\n",
       "    .dataframe tbody tr th:only-of-type {\n",
       "        vertical-align: middle;\n",
       "    }\n",
       "\n",
       "    .dataframe tbody tr th {\n",
       "        vertical-align: top;\n",
       "    }\n",
       "\n",
       "    .dataframe thead th {\n",
       "        text-align: right;\n",
       "    }\n",
       "</style>\n",
       "<table border=\"1\" class=\"dataframe\">\n",
       "  <thead>\n",
       "    <tr style=\"text-align: right;\">\n",
       "      <th></th>\n",
       "      <th>Unnamed: 0</th>\n",
       "      <th>Player</th>\n",
       "      <th>Pos</th>\n",
       "      <th>Age</th>\n",
       "      <th>Tm</th>\n",
       "      <th>G</th>\n",
       "      <th>GS</th>\n",
       "      <th>MP</th>\n",
       "      <th>FG</th>\n",
       "      <th>FGA</th>\n",
       "      <th>...</th>\n",
       "      <th>Pts Max</th>\n",
       "      <th>Share</th>\n",
       "      <th>Team</th>\n",
       "      <th>W</th>\n",
       "      <th>L</th>\n",
       "      <th>W/L%</th>\n",
       "      <th>GB</th>\n",
       "      <th>PS/G</th>\n",
       "      <th>PA/G</th>\n",
       "      <th>SRS</th>\n",
       "    </tr>\n",
       "  </thead>\n",
       "  <tbody>\n",
       "    <tr>\n",
       "      <th>0</th>\n",
       "      <td>0</td>\n",
       "      <td>A.C. Green</td>\n",
       "      <td>PF</td>\n",
       "      <td>27</td>\n",
       "      <td>LAL</td>\n",
       "      <td>82</td>\n",
       "      <td>21</td>\n",
       "      <td>26.4</td>\n",
       "      <td>3.1</td>\n",
       "      <td>6.6</td>\n",
       "      <td>...</td>\n",
       "      <td>0</td>\n",
       "      <td>0.0</td>\n",
       "      <td>Los Angeles Lakers</td>\n",
       "      <td>58</td>\n",
       "      <td>24</td>\n",
       "      <td>0.707</td>\n",
       "      <td>5.0</td>\n",
       "      <td>106.3</td>\n",
       "      <td>99.6</td>\n",
       "      <td>6.73</td>\n",
       "    </tr>\n",
       "    <tr>\n",
       "      <th>1</th>\n",
       "      <td>1</td>\n",
       "      <td>Byron Scott</td>\n",
       "      <td>SG</td>\n",
       "      <td>29</td>\n",
       "      <td>LAL</td>\n",
       "      <td>82</td>\n",
       "      <td>82</td>\n",
       "      <td>32.1</td>\n",
       "      <td>6.1</td>\n",
       "      <td>12.8</td>\n",
       "      <td>...</td>\n",
       "      <td>0</td>\n",
       "      <td>0.0</td>\n",
       "      <td>Los Angeles Lakers</td>\n",
       "      <td>58</td>\n",
       "      <td>24</td>\n",
       "      <td>0.707</td>\n",
       "      <td>5.0</td>\n",
       "      <td>106.3</td>\n",
       "      <td>99.6</td>\n",
       "      <td>6.73</td>\n",
       "    </tr>\n",
       "    <tr>\n",
       "      <th>2</th>\n",
       "      <td>2</td>\n",
       "      <td>Elden Campbell</td>\n",
       "      <td>PF</td>\n",
       "      <td>22</td>\n",
       "      <td>LAL</td>\n",
       "      <td>52</td>\n",
       "      <td>0</td>\n",
       "      <td>7.3</td>\n",
       "      <td>1.1</td>\n",
       "      <td>2.4</td>\n",
       "      <td>...</td>\n",
       "      <td>0</td>\n",
       "      <td>0.0</td>\n",
       "      <td>Los Angeles Lakers</td>\n",
       "      <td>58</td>\n",
       "      <td>24</td>\n",
       "      <td>0.707</td>\n",
       "      <td>5.0</td>\n",
       "      <td>106.3</td>\n",
       "      <td>99.6</td>\n",
       "      <td>6.73</td>\n",
       "    </tr>\n",
       "    <tr>\n",
       "      <th>3</th>\n",
       "      <td>3</td>\n",
       "      <td>Irving Thomas</td>\n",
       "      <td>PF</td>\n",
       "      <td>25</td>\n",
       "      <td>LAL</td>\n",
       "      <td>26</td>\n",
       "      <td>0</td>\n",
       "      <td>4.2</td>\n",
       "      <td>0.7</td>\n",
       "      <td>1.9</td>\n",
       "      <td>...</td>\n",
       "      <td>0</td>\n",
       "      <td>0.0</td>\n",
       "      <td>Los Angeles Lakers</td>\n",
       "      <td>58</td>\n",
       "      <td>24</td>\n",
       "      <td>0.707</td>\n",
       "      <td>5.0</td>\n",
       "      <td>106.3</td>\n",
       "      <td>99.6</td>\n",
       "      <td>6.73</td>\n",
       "    </tr>\n",
       "    <tr>\n",
       "      <th>4</th>\n",
       "      <td>4</td>\n",
       "      <td>James Worthy</td>\n",
       "      <td>SF</td>\n",
       "      <td>29</td>\n",
       "      <td>LAL</td>\n",
       "      <td>78</td>\n",
       "      <td>74</td>\n",
       "      <td>38.6</td>\n",
       "      <td>9.2</td>\n",
       "      <td>18.7</td>\n",
       "      <td>...</td>\n",
       "      <td>0</td>\n",
       "      <td>0.0</td>\n",
       "      <td>Los Angeles Lakers</td>\n",
       "      <td>58</td>\n",
       "      <td>24</td>\n",
       "      <td>0.707</td>\n",
       "      <td>5.0</td>\n",
       "      <td>106.3</td>\n",
       "      <td>99.6</td>\n",
       "      <td>6.73</td>\n",
       "    </tr>\n",
       "    <tr>\n",
       "      <th>...</th>\n",
       "      <td>...</td>\n",
       "      <td>...</td>\n",
       "      <td>...</td>\n",
       "      <td>...</td>\n",
       "      <td>...</td>\n",
       "      <td>...</td>\n",
       "      <td>...</td>\n",
       "      <td>...</td>\n",
       "      <td>...</td>\n",
       "      <td>...</td>\n",
       "      <td>...</td>\n",
       "      <td>...</td>\n",
       "      <td>...</td>\n",
       "      <td>...</td>\n",
       "      <td>...</td>\n",
       "      <td>...</td>\n",
       "      <td>...</td>\n",
       "      <td>...</td>\n",
       "      <td>...</td>\n",
       "      <td>...</td>\n",
       "      <td>...</td>\n",
       "    </tr>\n",
       "    <tr>\n",
       "      <th>14087</th>\n",
       "      <td>14087</td>\n",
       "      <td>Spencer Hawes</td>\n",
       "      <td>PF</td>\n",
       "      <td>28</td>\n",
       "      <td>MIL</td>\n",
       "      <td>54</td>\n",
       "      <td>1</td>\n",
       "      <td>14.8</td>\n",
       "      <td>2.5</td>\n",
       "      <td>5.1</td>\n",
       "      <td>...</td>\n",
       "      <td>0</td>\n",
       "      <td>0.0</td>\n",
       "      <td>Milwaukee Bucks</td>\n",
       "      <td>42</td>\n",
       "      <td>40</td>\n",
       "      <td>0.512</td>\n",
       "      <td>9.0</td>\n",
       "      <td>103.6</td>\n",
       "      <td>103.8</td>\n",
       "      <td>-0.45</td>\n",
       "    </tr>\n",
       "    <tr>\n",
       "      <th>14088</th>\n",
       "      <td>14088</td>\n",
       "      <td>Steve Novak</td>\n",
       "      <td>PF</td>\n",
       "      <td>33</td>\n",
       "      <td>MIL</td>\n",
       "      <td>8</td>\n",
       "      <td>0</td>\n",
       "      <td>2.8</td>\n",
       "      <td>0.3</td>\n",
       "      <td>0.9</td>\n",
       "      <td>...</td>\n",
       "      <td>0</td>\n",
       "      <td>0.0</td>\n",
       "      <td>Milwaukee Bucks</td>\n",
       "      <td>42</td>\n",
       "      <td>40</td>\n",
       "      <td>0.512</td>\n",
       "      <td>9.0</td>\n",
       "      <td>103.6</td>\n",
       "      <td>103.8</td>\n",
       "      <td>-0.45</td>\n",
       "    </tr>\n",
       "    <tr>\n",
       "      <th>14089</th>\n",
       "      <td>14089</td>\n",
       "      <td>Terrence Jones</td>\n",
       "      <td>PF</td>\n",
       "      <td>25</td>\n",
       "      <td>MIL</td>\n",
       "      <td>54</td>\n",
       "      <td>12</td>\n",
       "      <td>23.5</td>\n",
       "      <td>4.3</td>\n",
       "      <td>9.1</td>\n",
       "      <td>...</td>\n",
       "      <td>0</td>\n",
       "      <td>0.0</td>\n",
       "      <td>Milwaukee Bucks</td>\n",
       "      <td>42</td>\n",
       "      <td>40</td>\n",
       "      <td>0.512</td>\n",
       "      <td>9.0</td>\n",
       "      <td>103.6</td>\n",
       "      <td>103.8</td>\n",
       "      <td>-0.45</td>\n",
       "    </tr>\n",
       "    <tr>\n",
       "      <th>14090</th>\n",
       "      <td>14090</td>\n",
       "      <td>Thon Maker</td>\n",
       "      <td>C</td>\n",
       "      <td>19</td>\n",
       "      <td>MIL</td>\n",
       "      <td>57</td>\n",
       "      <td>34</td>\n",
       "      <td>9.9</td>\n",
       "      <td>1.5</td>\n",
       "      <td>3.2</td>\n",
       "      <td>...</td>\n",
       "      <td>0</td>\n",
       "      <td>0.0</td>\n",
       "      <td>Milwaukee Bucks</td>\n",
       "      <td>42</td>\n",
       "      <td>40</td>\n",
       "      <td>0.512</td>\n",
       "      <td>9.0</td>\n",
       "      <td>103.6</td>\n",
       "      <td>103.8</td>\n",
       "      <td>-0.45</td>\n",
       "    </tr>\n",
       "    <tr>\n",
       "      <th>14091</th>\n",
       "      <td>14091</td>\n",
       "      <td>Tony Snell</td>\n",
       "      <td>SG</td>\n",
       "      <td>25</td>\n",
       "      <td>MIL</td>\n",
       "      <td>80</td>\n",
       "      <td>80</td>\n",
       "      <td>29.2</td>\n",
       "      <td>3.1</td>\n",
       "      <td>6.8</td>\n",
       "      <td>...</td>\n",
       "      <td>0</td>\n",
       "      <td>0.0</td>\n",
       "      <td>Milwaukee Bucks</td>\n",
       "      <td>42</td>\n",
       "      <td>40</td>\n",
       "      <td>0.512</td>\n",
       "      <td>9.0</td>\n",
       "      <td>103.6</td>\n",
       "      <td>103.8</td>\n",
       "      <td>-0.45</td>\n",
       "    </tr>\n",
       "  </tbody>\n",
       "</table>\n",
       "<p>14092 rows × 42 columns</p>\n",
       "</div>"
      ],
      "text/plain": [
       "       Unnamed: 0          Player Pos  Age   Tm   G  GS    MP   FG   FGA  ...  \\\n",
       "0               0      A.C. Green  PF   27  LAL  82  21  26.4  3.1   6.6  ...   \n",
       "1               1     Byron Scott  SG   29  LAL  82  82  32.1  6.1  12.8  ...   \n",
       "2               2  Elden Campbell  PF   22  LAL  52   0   7.3  1.1   2.4  ...   \n",
       "3               3   Irving Thomas  PF   25  LAL  26   0   4.2  0.7   1.9  ...   \n",
       "4               4    James Worthy  SF   29  LAL  78  74  38.6  9.2  18.7  ...   \n",
       "...           ...             ...  ..  ...  ...  ..  ..   ...  ...   ...  ...   \n",
       "14087       14087   Spencer Hawes  PF   28  MIL  54   1  14.8  2.5   5.1  ...   \n",
       "14088       14088     Steve Novak  PF   33  MIL   8   0   2.8  0.3   0.9  ...   \n",
       "14089       14089  Terrence Jones  PF   25  MIL  54  12  23.5  4.3   9.1  ...   \n",
       "14090       14090      Thon Maker   C   19  MIL  57  34   9.9  1.5   3.2  ...   \n",
       "14091       14091      Tony Snell  SG   25  MIL  80  80  29.2  3.1   6.8  ...   \n",
       "\n",
       "       Pts Max  Share                Team   W   L   W/L%   GB   PS/G   PA/G  \\\n",
       "0            0    0.0  Los Angeles Lakers  58  24  0.707  5.0  106.3   99.6   \n",
       "1            0    0.0  Los Angeles Lakers  58  24  0.707  5.0  106.3   99.6   \n",
       "2            0    0.0  Los Angeles Lakers  58  24  0.707  5.0  106.3   99.6   \n",
       "3            0    0.0  Los Angeles Lakers  58  24  0.707  5.0  106.3   99.6   \n",
       "4            0    0.0  Los Angeles Lakers  58  24  0.707  5.0  106.3   99.6   \n",
       "...        ...    ...                 ...  ..  ..    ...  ...    ...    ...   \n",
       "14087        0    0.0     Milwaukee Bucks  42  40  0.512  9.0  103.6  103.8   \n",
       "14088        0    0.0     Milwaukee Bucks  42  40  0.512  9.0  103.6  103.8   \n",
       "14089        0    0.0     Milwaukee Bucks  42  40  0.512  9.0  103.6  103.8   \n",
       "14090        0    0.0     Milwaukee Bucks  42  40  0.512  9.0  103.6  103.8   \n",
       "14091        0    0.0     Milwaukee Bucks  42  40  0.512  9.0  103.6  103.8   \n",
       "\n",
       "        SRS  \n",
       "0      6.73  \n",
       "1      6.73  \n",
       "2      6.73  \n",
       "3      6.73  \n",
       "4      6.73  \n",
       "...     ...  \n",
       "14087 -0.45  \n",
       "14088 -0.45  \n",
       "14089 -0.45  \n",
       "14090 -0.45  \n",
       "14091 -0.45  \n",
       "\n",
       "[14092 rows x 42 columns]"
      ]
     },
     "execution_count": 21,
     "metadata": {},
     "output_type": "execute_result"
    }
   ],
   "source": [
    "df"
   ]
  },
  {
   "cell_type": "code",
   "execution_count": 22,
   "id": "02db2d31",
   "metadata": {},
   "outputs": [
    {
     "data": {
      "text/plain": [
       "count    14092.000000\n",
       "mean        52.595586\n",
       "std         25.101975\n",
       "min          1.000000\n",
       "25%         33.000000\n",
       "50%         59.000000\n",
       "75%         75.000000\n",
       "max         85.000000\n",
       "Name: G, dtype: float64"
      ]
     },
     "execution_count": 22,
     "metadata": {},
     "output_type": "execute_result"
    }
   ],
   "source": [
    "df['G'].describe()"
   ]
  },
  {
   "cell_type": "markdown",
   "id": "65f51da8",
   "metadata": {},
   "source": [
    "Interpretaion: As can be seen by the above statistics the maximum number of games that a player played was 85. Meanwhile, the minimum of 1 can be due to an injury of a player, his unexperience, or due to his low skill level. The average games played of all players was 52, as playing in the NBA requires lots of rotation and subs. "
   ]
  },
  {
   "cell_type": "code",
   "execution_count": 23,
   "id": "57295472",
   "metadata": {},
   "outputs": [
    {
     "data": {
      "text/plain": [
       "630.1091651024531"
      ]
     },
     "execution_count": 23,
     "metadata": {},
     "output_type": "execute_result"
    }
   ],
   "source": [
    "df['G'].var()"
   ]
  },
  {
   "cell_type": "code",
   "execution_count": 24,
   "id": "1d34e225",
   "metadata": {},
   "outputs": [],
   "source": [
    "import matplotlib.pyplot as plt"
   ]
  },
  {
   "cell_type": "code",
   "execution_count": 25,
   "id": "1d995aae",
   "metadata": {},
   "outputs": [
    {
     "data": {
      "image/png": "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\n",
      "text/plain": [
       "<Figure size 432x288 with 1 Axes>"
      ]
     },
     "metadata": {
      "needs_background": "light"
     },
     "output_type": "display_data"
    }
   ],
   "source": [
    "plt.bar(df['G'],df['W'])\n",
    "plt.ylabel(\"Wins\")\n",
    "plt.xlabel(\"Total Games\")\n",
    "plt.show()"
   ]
  },
  {
   "cell_type": "code",
   "execution_count": 26,
   "id": "45fb8cb1",
   "metadata": {},
   "outputs": [
    {
     "data": {
      "text/html": [
       "<div>\n",
       "<style scoped>\n",
       "    .dataframe tbody tr th:only-of-type {\n",
       "        vertical-align: middle;\n",
       "    }\n",
       "\n",
       "    .dataframe tbody tr th {\n",
       "        vertical-align: top;\n",
       "    }\n",
       "\n",
       "    .dataframe thead th {\n",
       "        text-align: right;\n",
       "    }\n",
       "</style>\n",
       "<table border=\"1\" class=\"dataframe\">\n",
       "  <thead>\n",
       "    <tr style=\"text-align: right;\">\n",
       "      <th></th>\n",
       "      <th>G</th>\n",
       "      <th>W</th>\n",
       "    </tr>\n",
       "  </thead>\n",
       "  <tbody>\n",
       "    <tr>\n",
       "      <th>G</th>\n",
       "      <td>1.0000</td>\n",
       "      <td>0.1271</td>\n",
       "    </tr>\n",
       "    <tr>\n",
       "      <th>W</th>\n",
       "      <td>0.1271</td>\n",
       "      <td>1.0000</td>\n",
       "    </tr>\n",
       "  </tbody>\n",
       "</table>\n",
       "</div>"
      ],
      "text/plain": [
       "        G       W\n",
       "G  1.0000  0.1271\n",
       "W  0.1271  1.0000"
      ]
     },
     "execution_count": 26,
     "metadata": {},
     "output_type": "execute_result"
    }
   ],
   "source": [
    "df[['G','W']].corr(method='pearson')"
   ]
  },
  {
   "cell_type": "markdown",
   "id": "0add4513",
   "metadata": {},
   "source": [
    "Interpretation: Through looking at the bar chart and the correlation numbers, it can be seen that there exists no correlation between the games played and the wins of the season. However, what I found very interesting and contradicting to my belief is that the number of wins was very low when the maximum number of games were played. The only way I could interpret this is that due to the tensity and the high load of the games the players were in a state of fatigue and were therefore unable to win the games. "
   ]
  },
  {
   "cell_type": "code",
   "execution_count": 28,
   "id": "41e494cd",
   "metadata": {},
   "outputs": [
    {
     "data": {
      "text/plain": [
       "3.0     218\n",
       "2.0     188\n",
       "4.0     173\n",
       "3.5     173\n",
       "3.8     168\n",
       "       ... \n",
       "27.2      1\n",
       "22.8      1\n",
       "25.3      1\n",
       "22.9      1\n",
       "23.5      1\n",
       "Name: FGA, Length: 245, dtype: int64"
      ]
     },
     "execution_count": 28,
     "metadata": {},
     "output_type": "execute_result"
    }
   ],
   "source": [
    "df['FGA'].value_counts()"
   ]
  },
  {
   "cell_type": "code",
   "execution_count": 29,
   "id": "49459585",
   "metadata": {},
   "outputs": [
    {
     "data": {
      "text/plain": [
       "9.0     61\n",
       "12.0    60\n",
       "17.3    60\n",
       "13.1    60\n",
       "5.0     59\n",
       "        ..\n",
       "42.4     1\n",
       "42.6     1\n",
       "1.2      1\n",
       "41.7     1\n",
       "42.1     1\n",
       "Name: MP, Length: 419, dtype: int64"
      ]
     },
     "execution_count": 29,
     "metadata": {},
     "output_type": "execute_result"
    }
   ],
   "source": [
    "df['MP'].value_counts()"
   ]
  },
  {
   "cell_type": "code",
   "execution_count": 30,
   "id": "1de913f7",
   "metadata": {},
   "outputs": [],
   "source": [
    "import matplotlib.pyplot as plt"
   ]
  },
  {
   "cell_type": "code",
   "execution_count": 32,
   "id": "49c4f5c6",
   "metadata": {},
   "outputs": [
    {
     "data": {
      "image/png": "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\n",
      "text/plain": [
       "<Figure size 432x288 with 1 Axes>"
      ]
     },
     "metadata": {
      "needs_background": "light"
     },
     "output_type": "display_data"
    }
   ],
   "source": [
    "plt.scatter(df['FGA'],df['MP'])\n",
    "plt.ylabel(\"Field Goals Attempted per Game\")\n",
    "plt.xlabel(\"Minutes Played per Game\")\n",
    "plt.show()"
   ]
  },
  {
   "cell_type": "markdown",
   "id": "f632a3f7",
   "metadata": {},
   "source": [
    "Interpretation: The two discrete variables, Field Goals Attempted and Minutes Played, have a positive correlation. As the number of field goals attempted increases as the player spends more time in the game."
   ]
  },
  {
   "cell_type": "code",
<<<<<<< HEAD
   "execution_count": 44,
   "id": "aea076cc",
   "metadata": {},
   "outputs": [
    {
     "data": {
      "text/plain": [
       "count    14092.000000\n",
       "mean        25.625816\n",
       "std         29.069866\n",
       "min          0.000000\n",
       "25%          1.000000\n",
       "50%         11.000000\n",
       "75%         51.000000\n",
       "max         83.000000\n",
       "Name: GS, dtype: float64"
      ]
     },
     "execution_count": 44,
     "metadata": {},
     "output_type": "execute_result"
    }
   ],
   "source": [
    "df['GS'].describe()"
   ]
  },
  {
   "cell_type": "markdown",
   "id": "601283f5",
=======
   "execution_count": null,
   "id": "6b7fde01",
>>>>>>> 2845e0783c67886b8e769195af8b6dc6d4b236c7
   "metadata": {},
   "outputs": [],
   "source": []
  },
  {
   "cell_type": "code",
   "execution_count": 34,
   "id": "aea076cc",
   "metadata": {
    "scrolled": true
   },
   "outputs": [
    {
     "data": {
      "text/plain": [
       "41    631\n",
       "42    528\n",
       "33    527\n",
       "44    486\n",
       "50    484\n",
       "     ... \n",
       "72     15\n",
       "69     15\n",
       "7      15\n",
       "12     15\n",
       "9      15\n",
       "Name: W, Length: 64, dtype: int64"
      ]
     },
     "execution_count": 34,
     "metadata": {},
     "output_type": "execute_result"
    }
   ],
   "source": [
<<<<<<< HEAD
    "df['GS'].var()"
   ]
  },
  {
   "cell_type": "markdown",
   "id": "3fe0e46e",
   "metadata": {},
   "source": [
    "Interpretation: the large variance indicates that numbers for the games started are far from the mean and far from each other "
=======
    "\n",
    "df['STL'].value_counts()"
>>>>>>> 2845e0783c67886b8e769195af8b6dc6d4b236c7
   ]
  },
  {
   "cell_type": "code",
   "execution_count": 38,
   "id": "64f8c96f",
   "metadata": {},
   "outputs": [
    {
     "data": {
      "image/png": "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\n",
      "text/plain": [
       "<Figure size 432x288 with 1 Axes>"
      ]
     },
     "metadata": {
      "needs_background": "light"
     },
     "output_type": "display_data"
    }
   ],
   "source": [
    "plt.scatter(df['STL'],df['W'])\n",
    "plt.ylabel(\"Wins\")\n",
    "plt.xlabel(\"Steal\")\n",
    "plt.show()"
   ]
  },
  {
   "cell_type": "markdown",
<<<<<<< HEAD
   "id": "a43f0d8c",
=======
   "id": "8b6c510e",
>>>>>>> 2845e0783c67886b8e769195af8b6dc6d4b236c7
   "metadata": {},
   "source": [
    "Interpretation: Steals and wins per seaseon do not appear to have a correlation, "
   ]
  },
  {
   "cell_type": "code",
   "execution_count": null,
<<<<<<< HEAD
   "id": "0106dfac",
   "metadata": {},
   "outputs": [],
   "source": [
    "df['STL'].value.counts()"
   ]
  },
  {
   "cell_type": "code",
   "execution_count": null,
   "id": "445be122",
   "metadata": {},
   "outputs": [],
   "source": [
    "df['W'].value.counts()"
   ]
  },
  {
   "cell_type": "code",
   "execution_count": 52,
   "id": "56dcaa6d",
   "metadata": {},
   "outputs": [
    {
     "data": {
      "image/png": "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\n",
      "text/plain": [
       "<Figure size 432x288 with 1 Axes>"
      ]
     },
     "metadata": {
      "needs_background": "light"
     },
     "output_type": "display_data"
    }
   ],
   "source": [
    "plt.scatter(df['STL'],df['W'])\n",
    "plt.xlabel(\"Steals per game\")\n",
    "plt.ylabel(\"Wins\")\n",
    "plt.show()"
   ]
  },
  {
   "cell_type": "markdown",
   "id": "ce89ca3f",
=======
   "id": "df40da62",
>>>>>>> 2845e0783c67886b8e769195af8b6dc6d4b236c7
   "metadata": {},
   "source": [
    "Interpretation: As a basketball player, I thought that there would be a correlation between the steals per game and the wins as the famous quote says \"defence wins games\". However, by looking at the scatter plot there seems to be the opposite correlation. This correlation is defined by less wins as players make more steals. My interpretation to this correlation is that the 5 players on the court needs to be defending and not just one. Therefore, they are unable to win many games."
   ]
  },
  {
   "cell_type": "code",
   "execution_count": 53,
   "id": "b2a69b50",
   "metadata": {},
   "outputs": [],
   "source": [
    "import seaborn as sns"
   ]
  },
  {
   "cell_type": "code",
   "execution_count": 68,
   "id": "47e48ee4",
   "metadata": {},
   "outputs": [
    {
     "data": {
      "text/plain": [
       "Index(['Unnamed: 0', 'Pos', 'Age', 'G', 'GS', 'MP', 'FG', 'FGA', 'FG%', '3P',\n",
       "       '3PA', '3P%', '2P', '2PA', '2P%', 'eFG%', 'FT', 'FTA', 'FT%', 'ORB',\n",
       "       'DRB', 'TRB', 'AST', 'STL', 'BLK', 'TOV', 'PTS', 'Pts Won', 'Pts Max',\n",
       "       'Share', 'W', 'L', 'W/L%', 'GB', 'PS/G', 'PA/G', 'SRS'],\n",
       "      dtype='object')"
      ]
     },
     "execution_count": 68,
     "metadata": {},
     "output_type": "execute_result"
    }
   ],
   "source": [
    "df.columns\n"
   ]
  },
  {
   "cell_type": "code",
   "execution_count": 71,
   "id": "0ca7bb31",
   "metadata": {},
   "outputs": [
    {
     "data": {
      "text/plain": [
       "0.500    613\n",
       "0.512    464\n",
       "0.610    451\n",
       "0.402    415\n",
       "0.537    411\n",
       "        ... \n",
       "0.106     15\n",
       "0.841     15\n",
       "0.379     14\n",
       "0.424     14\n",
       "0.420     13\n",
       "Name: W/L%, Length: 137, dtype: int64"
      ]
     },
     "execution_count": 71,
     "metadata": {},
     "output_type": "execute_result"
    }
   ],
   "source": [
    "df['W/L%'].value_counts()"
   ]
  },
  {
   "cell_type": "code",
   "execution_count": 79,
   "id": "c10e9057",
   "metadata": {},
   "outputs": [],
   "source": [
    "tab=pd.crosstab(df['G'],df['W/L%'], margins=True)"
   ]
  },
  {
   "cell_type": "code",
   "execution_count": 76,
   "id": "e24ff7cc",
   "metadata": {},
   "outputs": [
    {
     "name": "stdout",
     "output_type": "stream",
     "text": [
      "Requirement already satisfied: statsmodels in /opt/anaconda3/lib/python3.9/site-packages (0.12.2)\n",
      "Requirement already satisfied: pandas>=0.21 in /opt/anaconda3/lib/python3.9/site-packages (from statsmodels) (1.3.4)\n",
      "Requirement already satisfied: scipy>=1.1 in /opt/anaconda3/lib/python3.9/site-packages (from statsmodels) (1.7.1)\n",
      "Requirement already satisfied: numpy>=1.15 in /opt/anaconda3/lib/python3.9/site-packages (from statsmodels) (1.20.3)\n",
      "Requirement already satisfied: patsy>=0.5 in /opt/anaconda3/lib/python3.9/site-packages (from statsmodels) (0.5.2)\n",
      "Requirement already satisfied: python-dateutil>=2.7.3 in /opt/anaconda3/lib/python3.9/site-packages (from pandas>=0.21->statsmodels) (2.8.2)\n",
      "Requirement already satisfied: pytz>=2017.3 in /opt/anaconda3/lib/python3.9/site-packages (from pandas>=0.21->statsmodels) (2021.3)\n",
      "Requirement already satisfied: six in /opt/anaconda3/lib/python3.9/site-packages (from patsy>=0.5->statsmodels) (1.16.0)\n"
     ]
    }
   ],
   "source": [
    "!pip install statsmodels"
   ]
  },
  {
   "cell_type": "code",
   "execution_count": 77,
   "id": "bf67e18a",
   "metadata": {},
   "outputs": [],
   "source": [
    "import statsmodels.api as sm"
   ]
  },
  {
   "cell_type": "code",
   "execution_count": 80,
   "id": "72f7b582",
   "metadata": {},
   "outputs": [],
   "source": [
    "table= sm.stats.Table(tab)"
   ]
  },
  {
   "cell_type": "code",
   "execution_count": 83,
   "id": "8b2f7b1c",
   "metadata": {},
   "outputs": [
    {
     "name": "stdout",
     "output_type": "stream",
     "text": [
      "A 86x138 contingency table with counts:\n",
      "[[5.0000e-01 5.0000e-01 5.0000e-01 ... 1.0000e+00 5.0000e-01 1.2400e+02]\n",
      " [5.0000e-01 5.0000e-01 5.0000e-01 ... 5.0000e-01 5.0000e-01 1.5700e+02]\n",
      " [5.0000e-01 5.0000e-01 5.0000e-01 ... 5.0000e-01 5.0000e-01 1.5700e+02]\n",
      " ...\n",
      " [5.0000e-01 5.0000e-01 5.0000e-01 ... 5.0000e-01 5.0000e-01 2.0000e+00]\n",
      " [5.0000e-01 5.0000e-01 5.0000e-01 ... 5.0000e-01 5.0000e-01 3.0000e+00]\n",
      " [1.5000e+01 1.6000e+01 3.3000e+01 ... 1.5000e+01 1.5000e+01 1.4092e+04]]\n"
     ]
    }
   ],
   "source": [
    "print(table)"
   ]
  },
  {
   "cell_type": "code",
   "execution_count": 84,
   "id": "cbbe7b06",
   "metadata": {},
   "outputs": [],
   "source": [
    "rslt= table.test_nominal_association()"
   ]
  },
  {
   "cell_type": "code",
   "execution_count": 85,
   "id": "b4511cdb",
   "metadata": {},
   "outputs": [
    {
     "name": "stdout",
     "output_type": "stream",
     "text": [
      "8987.719561318467\n"
     ]
    }
   ],
   "source": [
    "print(rslt.statistic)"
   ]
  },
  {
   "cell_type": "code",
   "execution_count": 86,
   "id": "4591d7ac",
   "metadata": {},
   "outputs": [
    {
     "name": "stdout",
     "output_type": "stream",
     "text": [
      "1.0\n"
     ]
    }
   ],
   "source": [
    "print(rslt.pvalue)"
   ]
  },
  {
   "cell_type": "markdown",
   "id": "1a3c88bb",
   "metadata": {},
   "source": [
    "Interpretation: there is no correlation between the percentage of wins and losses and the number of games played by each player; this is especially evident because the p value is 1 which is much higher than the threshold of correlation (p= 0.05)"
   ]
  },
  {
   "cell_type": "code",
   "execution_count": null,
   "id": "d1b06763",
   "metadata": {},
   "outputs": [],
   "source": []
  },
  {
   "cell_type": "code",
   "execution_count": null,
   "id": "1105fbbd",
   "metadata": {},
   "outputs": [],
   "source": []
  },
  {
   "cell_type": "code",
   "execution_count": null,
   "id": "4be9e85c",
   "metadata": {},
   "outputs": [],
   "source": []
  },
  {
   "cell_type": "code",
   "execution_count": null,
   "id": "e6fec955",
   "metadata": {},
   "outputs": [],
   "source": []
  },
  {
   "cell_type": "code",
   "execution_count": null,
   "id": "4bc962a1",
   "metadata": {},
   "outputs": [],
   "source": []
  }
 ],
 "metadata": {
  "kernelspec": {
   "display_name": "Python 3 (ipykernel)",
   "language": "python",
   "name": "python3"
  },
  "language_info": {
   "codemirror_mode": {
    "name": "ipython",
    "version": 3
   },
   "file_extension": ".py",
   "mimetype": "text/x-python",
   "name": "python",
   "nbconvert_exporter": "python",
   "pygments_lexer": "ipython3",
   "version": "3.9.7"
  }
 },
 "nbformat": 4,
 "nbformat_minor": 5
}
