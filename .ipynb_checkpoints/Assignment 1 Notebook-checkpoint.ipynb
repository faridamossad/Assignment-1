{
 "cells": [
  {
   "cell_type": "markdown",
   "id": "f6e1ae58",
   "metadata": {},
   "source": [
    "## Assignment 1\n",
    "### Group members: Farida Mossad, Lina "
   ]
  },
  {
   "cell_type": "markdown",
   "id": "c030878e",
   "metadata": {},
   "source": [
    "As we are very passionate about the game of basketball and its varying statistics, we've decided to pick a dataset that can be used to explore how players and teams stats tendencies have changed over time due to changes in game philosophy and player development strategies. Also, it is useful to regard how this stats have an effect on MVP voting at the end of the each season."
   ]
  },
  {
   "cell_type": "code",
   "execution_count": 18,
   "id": "1d559ce4",
   "metadata": {},
   "outputs": [],
   "source": [
    "import numpy as np"
   ]
  },
  {
   "cell_type": "code",
   "execution_count": 19,
   "id": "2907b0d9",
   "metadata": {},
   "outputs": [],
   "source": [
    "import pandas as pd"
   ]
  },
  {
   "cell_type": "code",
   "execution_count": 20,
   "id": "bb3b9ab9",
   "metadata": {},
   "outputs": [],
   "source": [
    "df=pd.read_csv('player_mvp_stats.csv')"
   ]
  },
  {
   "cell_type": "code",
   "execution_count": 21,
   "id": "ec1bc6ef",
   "metadata": {},
   "outputs": [
    {
     "data": {
      "text/html": [
       "<div>\n",
       "<style scoped>\n",
       "    .dataframe tbody tr th:only-of-type {\n",
       "        vertical-align: middle;\n",
       "    }\n",
       "\n",
       "    .dataframe tbody tr th {\n",
       "        vertical-align: top;\n",
       "    }\n",
       "\n",
       "    .dataframe thead th {\n",
       "        text-align: right;\n",
       "    }\n",
       "</style>\n",
       "<table border=\"1\" class=\"dataframe\">\n",
       "  <thead>\n",
       "    <tr style=\"text-align: right;\">\n",
       "      <th></th>\n",
       "      <th>Unnamed: 0</th>\n",
       "      <th>Player</th>\n",
       "      <th>Pos</th>\n",
       "      <th>Age</th>\n",
       "      <th>Tm</th>\n",
       "      <th>G</th>\n",
       "      <th>GS</th>\n",
       "      <th>MP</th>\n",
       "      <th>FG</th>\n",
       "      <th>FGA</th>\n",
       "      <th>...</th>\n",
       "      <th>Pts Max</th>\n",
       "      <th>Share</th>\n",
       "      <th>Team</th>\n",
       "      <th>W</th>\n",
       "      <th>L</th>\n",
       "      <th>W/L%</th>\n",
       "      <th>GB</th>\n",
       "      <th>PS/G</th>\n",
       "      <th>PA/G</th>\n",
       "      <th>SRS</th>\n",
       "    </tr>\n",
       "  </thead>\n",
       "  <tbody>\n",
       "    <tr>\n",
       "      <th>0</th>\n",
       "      <td>0</td>\n",
       "      <td>A.C. Green</td>\n",
       "      <td>PF</td>\n",
       "      <td>27</td>\n",
       "      <td>LAL</td>\n",
       "      <td>82</td>\n",
       "      <td>21</td>\n",
       "      <td>26.4</td>\n",
       "      <td>3.1</td>\n",
       "      <td>6.6</td>\n",
       "      <td>...</td>\n",
       "      <td>0</td>\n",
       "      <td>0.0</td>\n",
       "      <td>Los Angeles Lakers</td>\n",
       "      <td>58</td>\n",
       "      <td>24</td>\n",
       "      <td>0.707</td>\n",
       "      <td>5.0</td>\n",
       "      <td>106.3</td>\n",
       "      <td>99.6</td>\n",
       "      <td>6.73</td>\n",
       "    </tr>\n",
       "    <tr>\n",
       "      <th>1</th>\n",
       "      <td>1</td>\n",
       "      <td>Byron Scott</td>\n",
       "      <td>SG</td>\n",
       "      <td>29</td>\n",
       "      <td>LAL</td>\n",
       "      <td>82</td>\n",
       "      <td>82</td>\n",
       "      <td>32.1</td>\n",
       "      <td>6.1</td>\n",
       "      <td>12.8</td>\n",
       "      <td>...</td>\n",
       "      <td>0</td>\n",
       "      <td>0.0</td>\n",
       "      <td>Los Angeles Lakers</td>\n",
       "      <td>58</td>\n",
       "      <td>24</td>\n",
       "      <td>0.707</td>\n",
       "      <td>5.0</td>\n",
       "      <td>106.3</td>\n",
       "      <td>99.6</td>\n",
       "      <td>6.73</td>\n",
       "    </tr>\n",
       "    <tr>\n",
       "      <th>2</th>\n",
       "      <td>2</td>\n",
       "      <td>Elden Campbell</td>\n",
       "      <td>PF</td>\n",
       "      <td>22</td>\n",
       "      <td>LAL</td>\n",
       "      <td>52</td>\n",
       "      <td>0</td>\n",
       "      <td>7.3</td>\n",
       "      <td>1.1</td>\n",
       "      <td>2.4</td>\n",
       "      <td>...</td>\n",
       "      <td>0</td>\n",
       "      <td>0.0</td>\n",
       "      <td>Los Angeles Lakers</td>\n",
       "      <td>58</td>\n",
       "      <td>24</td>\n",
       "      <td>0.707</td>\n",
       "      <td>5.0</td>\n",
       "      <td>106.3</td>\n",
       "      <td>99.6</td>\n",
       "      <td>6.73</td>\n",
       "    </tr>\n",
       "    <tr>\n",
       "      <th>3</th>\n",
       "      <td>3</td>\n",
       "      <td>Irving Thomas</td>\n",
       "      <td>PF</td>\n",
       "      <td>25</td>\n",
       "      <td>LAL</td>\n",
       "      <td>26</td>\n",
       "      <td>0</td>\n",
       "      <td>4.2</td>\n",
       "      <td>0.7</td>\n",
       "      <td>1.9</td>\n",
       "      <td>...</td>\n",
       "      <td>0</td>\n",
       "      <td>0.0</td>\n",
       "      <td>Los Angeles Lakers</td>\n",
       "      <td>58</td>\n",
       "      <td>24</td>\n",
       "      <td>0.707</td>\n",
       "      <td>5.0</td>\n",
       "      <td>106.3</td>\n",
       "      <td>99.6</td>\n",
       "      <td>6.73</td>\n",
       "    </tr>\n",
       "    <tr>\n",
       "      <th>4</th>\n",
       "      <td>4</td>\n",
       "      <td>James Worthy</td>\n",
       "      <td>SF</td>\n",
       "      <td>29</td>\n",
       "      <td>LAL</td>\n",
       "      <td>78</td>\n",
       "      <td>74</td>\n",
       "      <td>38.6</td>\n",
       "      <td>9.2</td>\n",
       "      <td>18.7</td>\n",
       "      <td>...</td>\n",
       "      <td>0</td>\n",
       "      <td>0.0</td>\n",
       "      <td>Los Angeles Lakers</td>\n",
       "      <td>58</td>\n",
       "      <td>24</td>\n",
       "      <td>0.707</td>\n",
       "      <td>5.0</td>\n",
       "      <td>106.3</td>\n",
       "      <td>99.6</td>\n",
       "      <td>6.73</td>\n",
       "    </tr>\n",
       "    <tr>\n",
       "      <th>...</th>\n",
       "      <td>...</td>\n",
       "      <td>...</td>\n",
       "      <td>...</td>\n",
       "      <td>...</td>\n",
       "      <td>...</td>\n",
       "      <td>...</td>\n",
       "      <td>...</td>\n",
       "      <td>...</td>\n",
       "      <td>...</td>\n",
       "      <td>...</td>\n",
       "      <td>...</td>\n",
       "      <td>...</td>\n",
       "      <td>...</td>\n",
       "      <td>...</td>\n",
       "      <td>...</td>\n",
       "      <td>...</td>\n",
       "      <td>...</td>\n",
       "      <td>...</td>\n",
       "      <td>...</td>\n",
       "      <td>...</td>\n",
       "      <td>...</td>\n",
       "    </tr>\n",
       "    <tr>\n",
       "      <th>14087</th>\n",
       "      <td>14087</td>\n",
       "      <td>Spencer Hawes</td>\n",
       "      <td>PF</td>\n",
       "      <td>28</td>\n",
       "      <td>MIL</td>\n",
       "      <td>54</td>\n",
       "      <td>1</td>\n",
       "      <td>14.8</td>\n",
       "      <td>2.5</td>\n",
       "      <td>5.1</td>\n",
       "      <td>...</td>\n",
       "      <td>0</td>\n",
       "      <td>0.0</td>\n",
       "      <td>Milwaukee Bucks</td>\n",
       "      <td>42</td>\n",
       "      <td>40</td>\n",
       "      <td>0.512</td>\n",
       "      <td>9.0</td>\n",
       "      <td>103.6</td>\n",
       "      <td>103.8</td>\n",
       "      <td>-0.45</td>\n",
       "    </tr>\n",
       "    <tr>\n",
       "      <th>14088</th>\n",
       "      <td>14088</td>\n",
       "      <td>Steve Novak</td>\n",
       "      <td>PF</td>\n",
       "      <td>33</td>\n",
       "      <td>MIL</td>\n",
       "      <td>8</td>\n",
       "      <td>0</td>\n",
       "      <td>2.8</td>\n",
       "      <td>0.3</td>\n",
       "      <td>0.9</td>\n",
       "      <td>...</td>\n",
       "      <td>0</td>\n",
       "      <td>0.0</td>\n",
       "      <td>Milwaukee Bucks</td>\n",
       "      <td>42</td>\n",
       "      <td>40</td>\n",
       "      <td>0.512</td>\n",
       "      <td>9.0</td>\n",
       "      <td>103.6</td>\n",
       "      <td>103.8</td>\n",
       "      <td>-0.45</td>\n",
       "    </tr>\n",
       "    <tr>\n",
       "      <th>14089</th>\n",
       "      <td>14089</td>\n",
       "      <td>Terrence Jones</td>\n",
       "      <td>PF</td>\n",
       "      <td>25</td>\n",
       "      <td>MIL</td>\n",
       "      <td>54</td>\n",
       "      <td>12</td>\n",
       "      <td>23.5</td>\n",
       "      <td>4.3</td>\n",
       "      <td>9.1</td>\n",
       "      <td>...</td>\n",
       "      <td>0</td>\n",
       "      <td>0.0</td>\n",
       "      <td>Milwaukee Bucks</td>\n",
       "      <td>42</td>\n",
       "      <td>40</td>\n",
       "      <td>0.512</td>\n",
       "      <td>9.0</td>\n",
       "      <td>103.6</td>\n",
       "      <td>103.8</td>\n",
       "      <td>-0.45</td>\n",
       "    </tr>\n",
       "    <tr>\n",
       "      <th>14090</th>\n",
       "      <td>14090</td>\n",
       "      <td>Thon Maker</td>\n",
       "      <td>C</td>\n",
       "      <td>19</td>\n",
       "      <td>MIL</td>\n",
       "      <td>57</td>\n",
       "      <td>34</td>\n",
       "      <td>9.9</td>\n",
       "      <td>1.5</td>\n",
       "      <td>3.2</td>\n",
       "      <td>...</td>\n",
       "      <td>0</td>\n",
       "      <td>0.0</td>\n",
       "      <td>Milwaukee Bucks</td>\n",
       "      <td>42</td>\n",
       "      <td>40</td>\n",
       "      <td>0.512</td>\n",
       "      <td>9.0</td>\n",
       "      <td>103.6</td>\n",
       "      <td>103.8</td>\n",
       "      <td>-0.45</td>\n",
       "    </tr>\n",
       "    <tr>\n",
       "      <th>14091</th>\n",
       "      <td>14091</td>\n",
       "      <td>Tony Snell</td>\n",
       "      <td>SG</td>\n",
       "      <td>25</td>\n",
       "      <td>MIL</td>\n",
       "      <td>80</td>\n",
       "      <td>80</td>\n",
       "      <td>29.2</td>\n",
       "      <td>3.1</td>\n",
       "      <td>6.8</td>\n",
       "      <td>...</td>\n",
       "      <td>0</td>\n",
       "      <td>0.0</td>\n",
       "      <td>Milwaukee Bucks</td>\n",
       "      <td>42</td>\n",
       "      <td>40</td>\n",
       "      <td>0.512</td>\n",
       "      <td>9.0</td>\n",
       "      <td>103.6</td>\n",
       "      <td>103.8</td>\n",
       "      <td>-0.45</td>\n",
       "    </tr>\n",
       "  </tbody>\n",
       "</table>\n",
       "<p>14092 rows × 42 columns</p>\n",
       "</div>"
      ],
      "text/plain": [
       "       Unnamed: 0          Player Pos  Age   Tm   G  GS    MP   FG   FGA  ...  \\\n",
       "0               0      A.C. Green  PF   27  LAL  82  21  26.4  3.1   6.6  ...   \n",
       "1               1     Byron Scott  SG   29  LAL  82  82  32.1  6.1  12.8  ...   \n",
       "2               2  Elden Campbell  PF   22  LAL  52   0   7.3  1.1   2.4  ...   \n",
       "3               3   Irving Thomas  PF   25  LAL  26   0   4.2  0.7   1.9  ...   \n",
       "4               4    James Worthy  SF   29  LAL  78  74  38.6  9.2  18.7  ...   \n",
       "...           ...             ...  ..  ...  ...  ..  ..   ...  ...   ...  ...   \n",
       "14087       14087   Spencer Hawes  PF   28  MIL  54   1  14.8  2.5   5.1  ...   \n",
       "14088       14088     Steve Novak  PF   33  MIL   8   0   2.8  0.3   0.9  ...   \n",
       "14089       14089  Terrence Jones  PF   25  MIL  54  12  23.5  4.3   9.1  ...   \n",
       "14090       14090      Thon Maker   C   19  MIL  57  34   9.9  1.5   3.2  ...   \n",
       "14091       14091      Tony Snell  SG   25  MIL  80  80  29.2  3.1   6.8  ...   \n",
       "\n",
       "       Pts Max  Share                Team   W   L   W/L%   GB   PS/G   PA/G  \\\n",
       "0            0    0.0  Los Angeles Lakers  58  24  0.707  5.0  106.3   99.6   \n",
       "1            0    0.0  Los Angeles Lakers  58  24  0.707  5.0  106.3   99.6   \n",
       "2            0    0.0  Los Angeles Lakers  58  24  0.707  5.0  106.3   99.6   \n",
       "3            0    0.0  Los Angeles Lakers  58  24  0.707  5.0  106.3   99.6   \n",
       "4            0    0.0  Los Angeles Lakers  58  24  0.707  5.0  106.3   99.6   \n",
       "...        ...    ...                 ...  ..  ..    ...  ...    ...    ...   \n",
       "14087        0    0.0     Milwaukee Bucks  42  40  0.512  9.0  103.6  103.8   \n",
       "14088        0    0.0     Milwaukee Bucks  42  40  0.512  9.0  103.6  103.8   \n",
       "14089        0    0.0     Milwaukee Bucks  42  40  0.512  9.0  103.6  103.8   \n",
       "14090        0    0.0     Milwaukee Bucks  42  40  0.512  9.0  103.6  103.8   \n",
       "14091        0    0.0     Milwaukee Bucks  42  40  0.512  9.0  103.6  103.8   \n",
       "\n",
       "        SRS  \n",
       "0      6.73  \n",
       "1      6.73  \n",
       "2      6.73  \n",
       "3      6.73  \n",
       "4      6.73  \n",
       "...     ...  \n",
       "14087 -0.45  \n",
       "14088 -0.45  \n",
       "14089 -0.45  \n",
       "14090 -0.45  \n",
       "14091 -0.45  \n",
       "\n",
       "[14092 rows x 42 columns]"
      ]
     },
     "execution_count": 21,
     "metadata": {},
     "output_type": "execute_result"
    }
   ],
   "source": [
    "df"
   ]
  },
  {
   "cell_type": "code",
   "execution_count": 22,
   "id": "02db2d31",
   "metadata": {},
   "outputs": [
    {
     "data": {
      "text/plain": [
       "count    14092.000000\n",
       "mean        52.595586\n",
       "std         25.101975\n",
       "min          1.000000\n",
       "25%         33.000000\n",
       "50%         59.000000\n",
       "75%         75.000000\n",
       "max         85.000000\n",
       "Name: G, dtype: float64"
      ]
     },
     "execution_count": 22,
     "metadata": {},
     "output_type": "execute_result"
    }
   ],
   "source": [
    "df['G'].describe()"
   ]
  },
  {
   "cell_type": "markdown",
   "id": "65f51da8",
   "metadata": {},
   "source": [
    "Interpretaion: As can be seen by the above statistics the maximum number of games that a player played was 85. Meanwhile, the minimum of 1 can be due to an injury of a player, his unexperience, or due to his low skill level. The average games played of all players was 52, as playing in the NBA requires lots of rotation and subs. "
   ]
  },
  {
   "cell_type": "code",
   "execution_count": 23,
   "id": "57295472",
   "metadata": {},
   "outputs": [
    {
     "data": {
      "text/plain": [
       "630.1091651024531"
      ]
     },
     "execution_count": 23,
     "metadata": {},
     "output_type": "execute_result"
    }
   ],
   "source": [
    "df['G'].var()"
   ]
  },
  {
   "cell_type": "code",
   "execution_count": 24,
   "id": "1d34e225",
   "metadata": {},
   "outputs": [],
   "source": [
    "import matplotlib.pyplot as plt"
   ]
  },
  {
   "cell_type": "code",
   "execution_count": 25,
   "id": "1d995aae",
   "metadata": {},
   "outputs": [
    {
     "data": {
      "image/png": "[encoded data removed]",
      "text/plain": [
       "<Figure size 432x288 with 1 Axes>"
      ]
     },
     "metadata": {
      "needs_background": "light"
     },
     "output_type": "display_data"
    }
   ],
   "source": [
    "plt.bar(df['G'],df['W'])\n",
    "plt.ylabel(\"Wins\")\n",
    "plt.xlabel(\"Total Games\")\n",
    "plt.show()"
   ]
  },
  {
   "cell_type": "code",
   "execution_count": 26,
   "id": "45fb8cb1",
   "metadata": {},
   "outputs": [
    {
     "data": {
      "text/html": [
       "<div>\n",
       "<style scoped>\n",
       "    .dataframe tbody tr th:only-of-type {\n",
       "        vertical-align: middle;\n",
       "    }\n",
       "\n",
       "    .dataframe tbody tr th {\n",
       "        vertical-align: top;\n",
       "    }\n",
       "\n",
       "    .dataframe thead th {\n",
       "        text-align: right;\n",
       "    }\n",
       "</style>\n",
       "<table border=\"1\" class=\"dataframe\">\n",
       "  <thead>\n",
       "    <tr style=\"text-align: right;\">\n",
       "      <th></th>\n",
       "      <th>G</th>\n",
       "      <th>W</th>\n",
       "    </tr>\n",
       "  </thead>\n",
       "  <tbody>\n",
       "    <tr>\n",
       "      <th>G</th>\n",
       "      <td>1.0000</td>\n",
       "      <td>0.1271</td>\n",
       "    </tr>\n",
       "    <tr>\n",
       "      <th>W</th>\n",
       "      <td>0.1271</td>\n",
       "      <td>1.0000</td>\n",
       "    </tr>\n",
       "  </tbody>\n",
       "</table>\n",
       "</div>"
      ],
      "text/plain": [
       "        G       W\n",
       "G  1.0000  0.1271\n",
       "W  0.1271  1.0000"
      ]
     },
     "execution_count": 26,
     "metadata": {},
     "output_type": "execute_result"
    }
   ],
   "source": [
    "df[['G','W']].corr(method='pearson')"
   ]
  },
  {
   "cell_type": "markdown",
   "id": "0add4513",
   "metadata": {},
   "source": [
    "Interpretation: Through looking at the bar chart and the correlation numbers, it can be seen that there exists no correlation between the games played and the wins of the season. However, what I found very interesting and contradicting to my belief is that the number of wins was very low when the maximum number of games were played. The only way I could interpret this is that due to the tensity and the high load of the games the players were in a state of fatigue and were therefore unable to win the games. "
   ]
  },
  {
   "cell_type": "code",
   "execution_count": 28,
   "id": "41e494cd",
   "metadata": {},
   "outputs": [
    {
     "data": {
      "text/plain": [
       "3.0     218\n",
       "2.0     188\n",
       "4.0     173\n",
       "3.5     173\n",
       "3.8     168\n",
       "       ... \n",
       "27.2      1\n",
       "22.8      1\n",
       "25.3      1\n",
       "22.9      1\n",
       "23.5      1\n",
       "Name: FGA, Length: 245, dtype: int64"
      ]
     },
     "execution_count": 28,
     "metadata": {},
     "output_type": "execute_result"
    }
   ],
   "source": [
    "df['FGA'].value_counts()"
   ]
  },
  {
   "cell_type": "code",
   "execution_count": 29,
   "id": "49459585",
   "metadata": {},
   "outputs": [
    {
     "data": {
      "text/plain": [
       "9.0     61\n",
       "12.0    60\n",
       "17.3    60\n",
       "13.1    60\n",
       "5.0     59\n",
       "        ..\n",
       "42.4     1\n",
       "42.6     1\n",
       "1.2      1\n",
       "41.7     1\n",
       "42.1     1\n",
       "Name: MP, Length: 419, dtype: int64"
      ]
     },
     "execution_count": 29,
     "metadata": {},
     "output_type": "execute_result"
    }
   ],
   "source": [
    "df['MP'].value_counts()"
   ]
  },
  {
   "cell_type": "code",
   "execution_count": 30,
   "id": "1de913f7",
   "metadata": {},
   "outputs": [],
   "source": [
    "import matplotlib.pyplot as plt"
   ]
  },
  {
   "cell_type": "code",
   "execution_count": 32,
   "id": "49c4f5c6",
   "metadata": {},
   "outputs": [
    {
     "data": {
      "image/png": "[encoded data removed]",
      "text/plain": [
       "<Figure size 432x288 with 1 Axes>"
      ]
     },
     "metadata": {
      "needs_background": "light"
     },
     "output_type": "display_data"
    }
   ],
   "source": [
    "plt.scatter(df['FGA'],df['MP'])\n",
    "plt.ylabel(\"Field Goals Attempted per Game\")\n",
    "plt.xlabel(\"Minutes Played per Game\")\n",
    "plt.show()"
   ]
  },
  {
   "cell_type": "markdown",
   "id": "e33c778c",
   "metadata": {},
   "source": [
    "Interpretation: The two discrete variables, Field Goals Attempted and Minutes Played, have a positive correlation. As the number of field goals attempted increases as the player spends more time in the game."
   ]
  },
  {
   "cell_type": "code",
   "execution_count": 44,
   "id": "aea076cc",
   "metadata": {},
   "outputs": [
    {
     "data": {
      "text/plain": [
       "count    14092.000000\n",
       "mean        25.625816\n",
       "std         29.069866\n",
       "min          0.000000\n",
       "25%          1.000000\n",
       "50%         11.000000\n",
       "75%         51.000000\n",
       "max         83.000000\n",
       "Name: GS, dtype: float64"
      ]
     },
     "execution_count": 44,
     "metadata": {},
     "output_type": "execute_result"
    }
   ],
   "source": [
    "df['GS'].describe()"
   ]
  },
  {
   "cell_type": "markdown",
   "id": "562ce4ac",
   "metadata": {},
   "source": [
    "Interpretation: The average of the games started for the NBA players is 25 games. This number indicates that most of the players mentioned are not star players as they do not always start the game. This number could also indicate that the NBA coaches have a unique vision for each game and its starting players as they are not all the same. It can also be seen from the minimum that many players have never been from the starting 5 of any game. From the maximum, we can deduce that the most important players are the ones that started 83 games."
   ]
  },
  {
   "cell_type": "code",
   "execution_count": 45,
   "id": "4cc7cd3b",
   "metadata": {},
   "outputs": [
    {
     "data": {
      "text/plain": [
       "845.057123562242"
      ]
     },
     "execution_count": 45,
     "metadata": {},
     "output_type": "execute_result"
    }
   ],
   "source": [
    "df['GS'].var()"
   ]
  },
  {
   "cell_type": "markdown",
   "id": "bd20adb5",
   "metadata": {},
   "source": [
    "Interpretation: the large variance indicates that numbers for the games started are far from the mean and far from each other "
   ]
  },
  {
   "cell_type": "code",
   "execution_count": 50,
   "id": "e8b9669b",
   "metadata": {},
   "outputs": [
    {
     "data": {
      "text/plain": [
       "<BarContainer object of 14092 artists>"
      ]
     },
     "execution_count": 50,
     "metadata": {},
     "output_type": "execute_result"
    },
    {
     "data": {
      "image/png": "[encoded data removed]",
      "text/plain": [
       "<Figure size 432x288 with 1 Axes>"
      ]
     },
     "metadata": {
      "needs_background": "light"
     },
     "output_type": "display_data"
    }
   ],
   "source": [
    "plt.bar(df['GS'],df['PTS'])\n"
   ]
  },
  {
   "cell_type": "code",
   "execution_count": 51,
   "id": "64f8c96f",
   "metadata": {},
   "outputs": [
    {
     "data": {
      "text/html": [
       "<div>\n",
       "<style scoped>\n",
       "    .dataframe tbody tr th:only-of-type {\n",
       "        vertical-align: middle;\n",
       "    }\n",
       "\n",
       "    .dataframe tbody tr th {\n",
       "        vertical-align: top;\n",
       "    }\n",
       "\n",
       "    .dataframe thead th {\n",
       "        text-align: right;\n",
       "    }\n",
       "</style>\n",
       "<table border=\"1\" class=\"dataframe\">\n",
       "  <thead>\n",
       "    <tr style=\"text-align: right;\">\n",
       "      <th></th>\n",
       "      <th>GS</th>\n",
       "      <th>PTS</th>\n",
       "    </tr>\n",
       "  </thead>\n",
       "  <tbody>\n",
       "    <tr>\n",
       "      <th>GS</th>\n",
       "      <td>1.000000</td>\n",
       "      <td>0.777814</td>\n",
       "    </tr>\n",
       "    <tr>\n",
       "      <th>PTS</th>\n",
       "      <td>0.777814</td>\n",
       "      <td>1.000000</td>\n",
       "    </tr>\n",
       "  </tbody>\n",
       "</table>\n",
       "</div>"
      ],
      "text/plain": [
       "           GS       PTS\n",
       "GS   1.000000  0.777814\n",
       "PTS  0.777814  1.000000"
      ]
     },
     "execution_count": 51,
     "metadata": {},
     "output_type": "execute_result"
    }
   ],
   "source": [
    "df[['GS','PTS']].corr(method='spearman')"
   ]
  },
  {
   "cell_type": "markdown",
   "id": "4fa45950",
   "metadata": {},
   "source": [
    "Interpretation: Through looking at the bar chart there seems to be a correlation between the games started and the points scored for a player. The more a player starts a game the more he scores. This can be due to the confidence given or that the player is playing immediately after warmups and not a bench starter. This information is supported by the correlation number as it is close to 1 (positive correlation). "
   ]
  },
  {
   "cell_type": "code",
   "execution_count": null,
   "id": "0106dfac",
   "metadata": {},
   "outputs": [],
   "source": []
  },
  {
   "cell_type": "code",
   "execution_count": null,
   "id": "445be122",
   "metadata": {},
   "outputs": [],
   "source": []
  },
  {
   "cell_type": "code",
   "execution_count": null,
   "id": "56dcaa6d",
   "metadata": {},
   "outputs": [],
   "source": []
  },
  {
   "cell_type": "code",
   "execution_count": null,
   "id": "df40da62",
   "metadata": {},
   "outputs": [],
   "source": []
  },
  {
   "cell_type": "code",
   "execution_count": null,
   "id": "b2a69b50",
   "metadata": {},
   "outputs": [],
   "source": []
  },
  {
   "cell_type": "code",
   "execution_count": null,
   "id": "ee7fec18",
   "metadata": {},
   "outputs": [],
   "source": []
  },
  {
   "cell_type": "code",
   "execution_count": null,
   "id": "ddd6de52",
   "metadata": {},
   "outputs": [],
   "source": []
  },
  {
   "cell_type": "code",
   "execution_count": null,
   "id": "47e48ee4",
   "metadata": {},
   "outputs": [],
   "source": []
  },
  {
   "cell_type": "code",
   "execution_count": null,
   "id": "0ca7bb31",
   "metadata": {},
   "outputs": [],
   "source": []
  },
  {
   "cell_type": "code",
   "execution_count": null,
   "id": "c10e9057",
   "metadata": {},
   "outputs": [],
   "source": []
  },
  {
   "cell_type": "code",
   "execution_count": null,
   "id": "b376853f",
   "metadata": {},
   "outputs": [],
   "source": []
  },
  {
   "cell_type": "code",
   "execution_count": null,
   "id": "e24ff7cc",
   "metadata": {},
   "outputs": [],
   "source": []
  },
  {
   "cell_type": "code",
   "execution_count": null,
   "id": "bf67e18a",
   "metadata": {},
   "outputs": [],
   "source": []
  },
  {
   "cell_type": "code",
   "execution_count": null,
   "id": "72f7b582",
   "metadata": {},
   "outputs": [],
   "source": []
  },
  {
   "cell_type": "code",
   "execution_count": null,
   "id": "8b2f7b1c",
   "metadata": {},
   "outputs": [],
   "source": []
  },
  {
   "cell_type": "code",
   "execution_count": null,
   "id": "cbbe7b06",
   "metadata": {},
   "outputs": [],
   "source": []
  },
  {
   "cell_type": "code",
   "execution_count": null,
   "id": "b4511cdb",
   "metadata": {},
   "outputs": [],
   "source": []
  },
  {
   "cell_type": "code",
   "execution_count": null,
   "id": "4591d7ac",
   "metadata": {},
   "outputs": [],
   "source": []
  },
  {
   "cell_type": "code",
   "execution_count": null,
   "id": "241c34fc",
   "metadata": {},
   "outputs": [],
   "source": []
  },
  {
   "cell_type": "code",
   "execution_count": null,
   "id": "d1b06763",
   "metadata": {},
   "outputs": [],
   "source": []
  },
  {
   "cell_type": "code",
   "execution_count": null,
   "id": "1105fbbd",
   "metadata": {},
   "outputs": [],
   "source": []
  },
  {
   "cell_type": "code",
   "execution_count": null,
   "id": "4be9e85c",
   "metadata": {},
   "outputs": [],
   "source": []
  },
  {
   "cell_type": "code",
   "execution_count": null,
   "id": "e6fec955",
   "metadata": {},
   "outputs": [],
   "source": []
  },
  {
   "cell_type": "code",
   "execution_count": null,
   "id": "4bc962a1",
   "metadata": {},
   "outputs": [],
   "source": []
  }
 ],
 "metadata": {
  "kernelspec": {
   "display_name": "Python 3 (ipykernel)",
   "language": "python",
   "name": "python3"
  },
  "language_info": {
   "codemirror_mode": {
    "name": "ipython",
    "version": 3
   },
   "file_extension": ".py",
   "mimetype": "text/x-python",
   "name": "python",
   "nbconvert_exporter": "python",
   "pygments_lexer": "ipython3",
   "version": "3.9.7"
  }
 },
 "nbformat": 4,
 "nbformat_minor": 5
}
